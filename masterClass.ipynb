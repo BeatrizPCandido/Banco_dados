{
  "nbformat": 4,
  "nbformat_minor": 0,
  "metadata": {
    "colab": {
      "provenance": [],
      "authorship_tag": "ABX9TyMMBdcUwt0Xx/dy/NTeG3mc",
      "include_colab_link": true
    },
    "kernelspec": {
      "name": "python3",
      "display_name": "Python 3"
    },
    "language_info": {
      "name": "python"
    }
  },
  "cells": [
    {
      "cell_type": "markdown",
      "metadata": {
        "id": "view-in-github",
        "colab_type": "text"
      },
      "source": [
        "<a href=\"https://colab.research.google.com/github/BeatrizPCandido/Banco_dados/blob/main/masterClass.ipynb\" target=\"_parent\"><img src=\"https://colab.research.google.com/assets/colab-badge.svg\" alt=\"Open In Colab\"/></a>"
      ]
    },
    {
      "cell_type": "code",
      "execution_count": 1,
      "metadata": {
        "colab": {
          "base_uri": "https://localhost:8080/",
          "height": 36
        },
        "id": "4qmmK8FCNyxO",
        "outputId": "17c60bd3-b9b8-40de-ea50-880abb873e42"
      },
      "outputs": [
        {
          "output_type": "execute_result",
          "data": {
            "text/plain": [
              "'Beatriz'"
            ],
            "application/vnd.google.colaboratory.intrinsic+json": {
              "type": "string"
            }
          },
          "metadata": {},
          "execution_count": 1
        }
      ],
      "source": [
        "\"Beatriz\""
      ]
    },
    {
      "cell_type": "code",
      "source": [
        "saudacao = \"Olá, mundo!\"\n",
        "print(saudacao)"
      ],
      "metadata": {
        "colab": {
          "base_uri": "https://localhost:8080/"
        },
        "id": "XRndZ_G4N6Mn",
        "outputId": "50b780ee-6c71-4859-cd70-36ae8eff5332"
      },
      "execution_count": 2,
      "outputs": [
        {
          "output_type": "stream",
          "name": "stdout",
          "text": [
            "Olá, mundo!\n"
          ]
        }
      ]
    },
    {
      "cell_type": "code",
      "source": [
        "resposta = \"Não sei.\""
      ],
      "metadata": {
        "id": "23-ZrfcbN-sr"
      },
      "execution_count": 3,
      "outputs": []
    },
    {
      "cell_type": "code",
      "source": [
        "resposta"
      ],
      "metadata": {
        "colab": {
          "base_uri": "https://localhost:8080/",
          "height": 36
        },
        "id": "BHH60PVBOY9Q",
        "outputId": "a144d6c4-b4a2-47c8-fecd-11812daca5c7"
      },
      "execution_count": 4,
      "outputs": [
        {
          "output_type": "execute_result",
          "data": {
            "text/plain": [
              "'Não sei.'"
            ],
            "application/vnd.google.colaboratory.intrinsic+json": {
              "type": "string"
            }
          },
          "metadata": {},
          "execution_count": 4
        }
      ]
    },
    {
      "cell_type": "code",
      "source": [
        "idade = 40\n",
        "idade"
      ],
      "metadata": {
        "colab": {
          "base_uri": "https://localhost:8080/"
        },
        "id": "uM55txWqOcHP",
        "outputId": "72287a23-14ea-4561-e680-04f42e576f17"
      },
      "execution_count": 7,
      "outputs": [
        {
          "output_type": "execute_result",
          "data": {
            "text/plain": [
              "40"
            ]
          },
          "metadata": {},
          "execution_count": 7
        }
      ]
    },
    {
      "cell_type": "code",
      "source": [
        "gasolina = 6.55\n",
        "gasolina"
      ],
      "metadata": {
        "colab": {
          "base_uri": "https://localhost:8080/"
        },
        "id": "7XXQajrrOvEN",
        "outputId": "0aca643d-9b3d-48d9-a372-d382afe262b2"
      },
      "execution_count": 9,
      "outputs": [
        {
          "output_type": "execute_result",
          "data": {
            "text/plain": [
              "6.55"
            ]
          },
          "metadata": {},
          "execution_count": 9
        }
      ]
    },
    {
      "cell_type": "code",
      "source": [
        "altura = 1.75\n",
        "altura"
      ],
      "metadata": {
        "colab": {
          "base_uri": "https://localhost:8080/"
        },
        "id": "MKJqc1MpPMGl",
        "outputId": "bfd3155f-97a1-40d5-c482-2f0da877a95d"
      },
      "execution_count": 10,
      "outputs": [
        {
          "output_type": "execute_result",
          "data": {
            "text/plain": [
              "1.75"
            ]
          },
          "metadata": {},
          "execution_count": 10
        }
      ]
    },
    {
      "cell_type": "code",
      "source": [
        "#verdadeiro\n",
        "pode_dirigir = True\n",
        "pode_dirigir"
      ],
      "metadata": {
        "colab": {
          "base_uri": "https://localhost:8080/"
        },
        "id": "tPhJiz70PMEd",
        "outputId": "5fc4c3fc-d3fa-4189-d457-856a9057deeb"
      },
      "execution_count": 11,
      "outputs": [
        {
          "output_type": "execute_result",
          "data": {
            "text/plain": [
              "True"
            ]
          },
          "metadata": {},
          "execution_count": 11
        }
      ]
    },
    {
      "cell_type": "code",
      "source": [
        "#falso\n",
        "nao_pode_dirigir = False\n",
        "nao_pode_dirigir"
      ],
      "metadata": {
        "colab": {
          "base_uri": "https://localhost:8080/"
        },
        "id": "FXoYil-zPfjc",
        "outputId": "4f57143c-15c8-4f60-9e8e-f7b65adaaeff"
      },
      "execution_count": 12,
      "outputs": [
        {
          "output_type": "execute_result",
          "data": {
            "text/plain": [
              "False"
            ]
          },
          "metadata": {},
          "execution_count": 12
        }
      ]
    },
    {
      "cell_type": "code",
      "source": [
        "#criando uma lista\n",
        "citacao = ['frase 1', 'fase 2', 'frase 3']\n",
        "citacao"
      ],
      "metadata": {
        "colab": {
          "base_uri": "https://localhost:8080/"
        },
        "id": "h4hyLxFbPoB2",
        "outputId": "5281d44c-cd37-47f4-f568-6cd12761b8f9"
      },
      "execution_count": 13,
      "outputs": [
        {
          "output_type": "execute_result",
          "data": {
            "text/plain": [
              "['frase 1', 'fase 2', 'frase 3']"
            ]
          },
          "metadata": {},
          "execution_count": 13
        }
      ]
    },
    {
      "cell_type": "code",
      "source": [
        "#lista numerica\n",
        "valoes = [42, 100, 1592]\n",
        "valoes"
      ],
      "metadata": {
        "colab": {
          "base_uri": "https://localhost:8080/"
        },
        "id": "o02YwhtRQKNJ",
        "outputId": "9fb363c6-f6da-4ec8-9452-59f72502093e"
      },
      "execution_count": 18,
      "outputs": [
        {
          "output_type": "execute_result",
          "data": {
            "text/plain": [
              "[42, 100, 1592]"
            ]
          },
          "metadata": {},
          "execution_count": 18
        }
      ]
    },
    {
      "cell_type": "code",
      "source": [
        "valoes[0]"
      ],
      "metadata": {
        "colab": {
          "base_uri": "https://localhost:8080/"
        },
        "id": "DR1ncsnjQZUT",
        "outputId": "4afac03c-acfa-4971-e0cd-e7f226393492"
      },
      "execution_count": 19,
      "outputs": [
        {
          "output_type": "execute_result",
          "data": {
            "text/plain": [
              "42"
            ]
          },
          "metadata": {},
          "execution_count": 19
        }
      ]
    },
    {
      "cell_type": "code",
      "source": [
        "bandas_favoritas = {\n",
        "    'banda_favorita': 'Oasis',\n",
        "    'banda_legalzinha': 'Guilherme Band'\n",
        "}\n",
        "bandas_favoritas"
      ],
      "metadata": {
        "colab": {
          "base_uri": "https://localhost:8080/"
        },
        "id": "qhuasCzgQmpj",
        "outputId": "0f9cbd2c-87de-43a5-90a5-b7d6f1de001c"
      },
      "execution_count": 21,
      "outputs": [
        {
          "output_type": "execute_result",
          "data": {
            "text/plain": [
              "{'banda_favorita': 'Oasis', 'banda_legalzinha': 'Guilherme Band'}"
            ]
          },
          "metadata": {},
          "execution_count": 21
        }
      ]
    },
    {
      "cell_type": "code",
      "source": [
        "bandas_favoritas['banda_favorita']"
      ],
      "metadata": {
        "colab": {
          "base_uri": "https://localhost:8080/",
          "height": 36
        },
        "id": "8gANVhgMRV3v",
        "outputId": "90faf564-a215-4c08-9246-57ad23c3e762"
      },
      "execution_count": 22,
      "outputs": [
        {
          "output_type": "execute_result",
          "data": {
            "text/plain": [
              "'Oasis'"
            ],
            "application/vnd.google.colaboratory.intrinsic+json": {
              "type": "string"
            }
          },
          "metadata": {},
          "execution_count": 22
        }
      ]
    },
    {
      "cell_type": "code",
      "source": [
        "#função strip e rporia do python remove todos os espaço\n",
        "texto_sujo = \"   Bem vindo a imersão                \"\n",
        "texto_limpo = texto_sujo.strip()\n",
        "texto_limpo"
      ],
      "metadata": {
        "colab": {
          "base_uri": "https://localhost:8080/",
          "height": 36
        },
        "id": "LmLCk37YRcdG",
        "outputId": "738dd46d-6709-4b03-a034-b42c24d6d9ab"
      },
      "execution_count": 23,
      "outputs": [
        {
          "output_type": "execute_result",
          "data": {
            "text/plain": [
              "'Bem vindo a imersão'"
            ],
            "application/vnd.google.colaboratory.intrinsic+json": {
              "type": "string"
            }
          },
          "metadata": {},
          "execution_count": 23
        }
      ]
    },
    {
      "cell_type": "code",
      "source": [
        "idade = 18\n",
        "\n",
        "if idade >= 18:\n",
        "    print('Pode dirigir')\n",
        "else:\n",
        "    print('Não pode dirigir')"
      ],
      "metadata": {
        "colab": {
          "base_uri": "https://localhost:8080/"
        },
        "id": "JE8mdBqoSZTB",
        "outputId": "fb44ae0d-d4f1-4ebf-c8af-28107a5bb8fe"
      },
      "execution_count": 26,
      "outputs": [
        {
          "output_type": "stream",
          "name": "stdout",
          "text": [
            "Pode dirigir\n"
          ]
        }
      ]
    },
    {
      "cell_type": "code",
      "source": [
        "idade = 17\n",
        "\n",
        "if idade >= 18:\n",
        "  print('Pode dirigir')\n",
        "  print('Pode estudar na Fiap')\n",
        "else:\n",
        "  print('Não pode dirigir')\n",
        "  print('Pode estudar na Alura')"
      ],
      "metadata": {
        "colab": {
          "base_uri": "https://localhost:8080/"
        },
        "id": "zRwvSecCTBpE",
        "outputId": "2beb6326-fa93-46e7-c6b9-29c938a91e08"
      },
      "execution_count": 28,
      "outputs": [
        {
          "output_type": "stream",
          "name": "stdout",
          "text": [
            "Não pode dirigir\n",
            "Pode estudar na Alura\n"
          ]
        }
      ]
    },
    {
      "cell_type": "code",
      "source": [
        "#funçoes\n",
        "def saudar():\n",
        "  print('Olá, mundo!')\n",
        "  print('Estou aprendendo Python')\n",
        "  print('Estou aprendendo a programar')\n",
        "saudar()\n",
        "\n"
      ],
      "metadata": {
        "colab": {
          "base_uri": "https://localhost:8080/"
        },
        "id": "d3imlG54Tmvq",
        "outputId": "af77e6f0-dd1c-4526-e526-ac785bf12abd"
      },
      "execution_count": 35,
      "outputs": [
        {
          "output_type": "stream",
          "name": "stdout",
          "text": [
            "Olá, mundo!\n",
            "Estou aprendendo Python\n",
            "Estou aprendendo a programar\n"
          ]
        }
      ]
    },
    {
      "cell_type": "code",
      "source": [
        " def saudar(nome):\n",
        "  nome = input('Qual é o seu nome? ')\n",
        "  print(f'Olá, {nome}')\n",
        "  print('Estou aprendendo Python')\n",
        "  print('Estou aprendendo a programar')\n",
        "saudar('Beatriz')"
      ],
      "metadata": {
        "colab": {
          "base_uri": "https://localhost:8080/"
        },
        "id": "f5wmE5WBUwCW",
        "outputId": "71a08f5e-45af-4f22-d2fc-028fab74882a"
      },
      "execution_count": 38,
      "outputs": [
        {
          "output_type": "stream",
          "name": "stdout",
          "text": [
            "Qual é o seu nome? Beatriz\n",
            "Olá, Beatriz\n",
            "Estou aprendendo Python\n",
            "Estou aprendendo a programar\n"
          ]
        }
      ]
    },
    {
      "cell_type": "code",
      "source": [
        "def saudar(nome):\n",
        "  return f'Olá, {nome}!'\n",
        "\n",
        "mensagem_1 = saudar('Guilherme')\n",
        "mensagem_2 = saudar('Ana')\n",
        "mensagem_3 = saudar('José')"
      ],
      "metadata": {
        "id": "qszkxu7cV7rN"
      },
      "execution_count": 39,
      "outputs": []
    },
    {
      "cell_type": "code",
      "source": [
        "print(mensagem_1)\n",
        "print(mensagem_2)\n",
        "print(mensagem_3)"
      ],
      "metadata": {
        "colab": {
          "base_uri": "https://localhost:8080/"
        },
        "id": "HCIx1b_AV7pF",
        "outputId": "26510f89-5b70-4d29-a442-356ab5d6b39d"
      },
      "execution_count": 40,
      "outputs": [
        {
          "output_type": "stream",
          "name": "stdout",
          "text": [
            "Olá, Guilherme!\n",
            "Olá, Ana!\n",
            "Olá, José!\n"
          ]
        }
      ]
    },
    {
      "cell_type": "code",
      "source": [
        "def saudar(nome: str) -> str:\n",
        "  # retorna a mensagem Olá seguido do nome que recebemos como argumento\n",
        "  return f'Olá, {nome}!'\n",
        "\n",
        "mensagem_1 = saudar('Guilherme')\n",
        "mensagem_2 = saudar('Ana')\n",
        "\n",
        "print(mensagem_1)\n",
        "print(mensagem_2)"
      ],
      "metadata": {
        "colab": {
          "base_uri": "https://localhost:8080/"
        },
        "id": "hEvZBB_mWX7M",
        "outputId": "623ad94e-aa0c-4004-95d3-10011325fcc0"
      },
      "execution_count": 42,
      "outputs": [
        {
          "output_type": "stream",
          "name": "stdout",
          "text": [
            "Olá, Guilherme!\n",
            "Olá, Ana!\n"
          ]
        }
      ]
    },
    {
      "cell_type": "code",
      "source": [
        "1+2"
      ],
      "metadata": {
        "colab": {
          "base_uri": "https://localhost:8080/"
        },
        "id": "L5C3thvFXBQ0",
        "outputId": "7d13ca1d-0e0a-4875-b0fe-269ad76c9a5a"
      },
      "execution_count": 43,
      "outputs": [
        {
          "output_type": "execute_result",
          "data": {
            "text/plain": [
              "3"
            ]
          },
          "metadata": {},
          "execution_count": 43
        }
      ]
    },
    {
      "cell_type": "code",
      "source": [
        "50/4"
      ],
      "metadata": {
        "colab": {
          "base_uri": "https://localhost:8080/"
        },
        "id": "DsQfZvfmXDb_",
        "outputId": "dc331c4e-c870-451c-8b40-1363146467df"
      },
      "execution_count": 44,
      "outputs": [
        {
          "output_type": "execute_result",
          "data": {
            "text/plain": [
              "12.5"
            ]
          },
          "metadata": {},
          "execution_count": 44
        }
      ]
    },
    {
      "cell_type": "code",
      "source": [
        "5*5"
      ],
      "metadata": {
        "colab": {
          "base_uri": "https://localhost:8080/"
        },
        "id": "IqPLBXURXHXu",
        "outputId": "e135255a-a327-4f80-8870-1811f09b203e"
      },
      "execution_count": 45,
      "outputs": [
        {
          "output_type": "execute_result",
          "data": {
            "text/plain": [
              "25"
            ]
          },
          "metadata": {},
          "execution_count": 45
        }
      ]
    },
    {
      "cell_type": "code",
      "source": [
        "from math import sqrt\n",
        "\n",
        "sqrt(16)"
      ],
      "metadata": {
        "colab": {
          "base_uri": "https://localhost:8080/"
        },
        "id": "f0vps-6PXKIB",
        "outputId": "432c52fb-1187-464e-dc0c-8b10f6f3deb2"
      },
      "execution_count": 46,
      "outputs": [
        {
          "output_type": "execute_result",
          "data": {
            "text/plain": [
              "4.0"
            ]
          },
          "metadata": {},
          "execution_count": 46
        }
      ]
    },
    {
      "cell_type": "code",
      "source": [],
      "metadata": {
        "id": "ADGAnex7X5u9"
      },
      "execution_count": null,
      "outputs": []
    }
  ]
}