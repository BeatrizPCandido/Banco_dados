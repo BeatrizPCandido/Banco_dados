{
  "nbformat": 4,
  "nbformat_minor": 0,
  "metadata": {
    "colab": {
      "provenance": [],
      "include_colab_link": true
    },
    "kernelspec": {
      "name": "python3",
      "display_name": "Python 3"
    },
    "language_info": {
      "name": "python"
    }
  },
  "cells": [
    {
      "cell_type": "markdown",
      "metadata": {
        "id": "view-in-github",
        "colab_type": "text"
      },
      "source": [
        "<a href=\"https://colab.research.google.com/github/BeatrizPCandido/Banco_dados/blob/main/Mini_projeto_M%C3%B3dulo_4_Ciclo_14.ipynb\" target=\"_parent\"><img src=\"https://colab.research.google.com/assets/colab-badge.svg\" alt=\"Open In Colab\"/></a>"
      ]
    },
    {
      "cell_type": "markdown",
      "source": [
        "#Mini-projeto: Lidando com Bancos de Dados"
      ],
      "metadata": {
        "id": "WTV5Cp_BvR-r"
      }
    },
    {
      "cell_type": "markdown",
      "source": [
        "Nesta tarefa, você deverá desenvolver um mini-projeto em Python utilizando SQLite3, colocando em prática os conceitos de criação e manipulação de dados em um banco relacional.\n",
        "\n",
        "\n",
        "## Objetivo da atividade\n",
        "\n",
        "* Verificar se você compreende como:\n",
        "\n",
        "* Criar tabelas em SQLite;\n",
        "\n",
        "* Inserir dados em um banco de dados;\n",
        "\n",
        "* Consultar registros de diferentes formas;\n",
        "\n",
        "* Atualizar informações já cadastradas;\n",
        "\n",
        "* Excluir registros de uma tabela.\n",
        "\n",
        "## Formato e Data de Entrega\n",
        "\n",
        "**Você deve enviar o link para um Google Colab até o dia 28/09.**\n",
        "\n",
        "## Critérios de avaliação\n",
        "\n",
        "* Banco criado corretamente, com a estrutura definida.\n",
        "\n",
        "* Inserção correta de pelo menos 50 registros.\n",
        "\n",
        "* Consultas SQL funcionando.\n",
        "\n",
        "* Atualizações realizadas corretamente.\n",
        "\n",
        "* Exclusões funcionando sem erros.\n",
        "\n",
        "* Organização e clareza do código."
      ],
      "metadata": {
        "id": "XY-IUTsBvVlr"
      }
    },
    {
      "cell_type": "markdown",
      "source": [
        "## O que deve ser feito"
      ],
      "metadata": {
        "id": "T9azQsBIvYe1"
      }
    },
    {
      "cell_type": "markdown",
      "source": [
        "### 1. Criar a tabela\n",
        "\n",
        "* Nome: alunas.\n",
        "\n",
        "* Colunas obrigatórias:\n",
        "\n",
        "- id (inteiro, chave primária, autoincremento)\n",
        "\n",
        "- nome (texto, obrigatório)\n",
        "\n",
        "- email (texto, único, obrigatório)\n",
        "\n",
        "- data_nascimento (data, obrigatório)\n",
        "\n",
        "- data_cadastro (data/hora, com valor padrão atual)."
      ],
      "metadata": {
        "id": "nTN0Sdtewf-3"
      }
    },
    {
      "cell_type": "code",
      "source": [
        "import sqlite3\n",
        "from datetime import datetime\n",
        "import random\n",
        "import string\n",
        "\n",
        "# Conexão com o banco de dados local\n",
        "conn = sqlite3.connect(\"cinema.db\")\n",
        "cursor = conn.cursor()\n",
        "\n",
        "# 1️⃣ Criar a tabela alunas\n",
        "cursor.execute(\"\"\"\n",
        "CREATE TABLE IF NOT EXISTS alunas (\n",
        "    id INTEGER PRIMARY KEY AUTOINCREMENT,\n",
        "    nome TEXT NOT NULL,\n",
        "    email TEXT NOT NULL UNIQUE,\n",
        "    data_nascimento DATE NOT NULL,\n",
        "    data_cadastro DATETIME DEFAULT CURRENT_TIMESTAMP\n",
        ")\n",
        "\"\"\")\n",
        "conn.commit()"
      ],
      "metadata": {
        "id": "TH4GpKsyvyV1"
      },
      "execution_count": null,
      "outputs": []
    },
    {
      "cell_type": "markdown",
      "source": [
        "### 2. Inserir registros\n",
        "\n",
        "* Inserir pelo menos 50 alunas diferentes na tabela, preenchendo todos os campos obrigatórios."
      ],
      "metadata": {
        "id": "iMkomBb_vynv"
      }
    },
    {
      "cell_type": "code",
      "source": [
        "# Função para gerar dados fictícios\n",
        "def gerar_nome():\n",
        "    nomes = [\"Ana\", \"Beatriz\", \"Carla\", \"Daniela\", \"Eduarda\", \"Fernanda\", \"Gabriela\", \"Helena\", \"Isabela\", \"Juliana\"]\n",
        "    sobrenomes = [\"Silva\", \"Souza\", \"Oliveira\", \"Costa\", \"Pereira\", \"Rodrigues\", \"Almeida\", \"Nascimento\", \"Lima\", \"Gomes\"]\n",
        "    return f\"{random.choice(nomes)} {random.choice(sobrenomes)}\"\n",
        "\n",
        "def gerar_email(nome, i):\n",
        "    nome_formatado = nome.lower().replace(\" \", \".\")\n",
        "    return f\"{nome_formatado}{i}@exemplo.com\"\n",
        "\n",
        "def gerar_data_nascimento():\n",
        "    ano = random.randint(1990, 2005)\n",
        "    mes = random.randint(1, 12)\n",
        "    dia = random.randint(1, 28)\n",
        "    return f\"{ano}-{mes:02d}-{dia:02d}\"\n",
        "\n",
        "# Inserindo 50 alunas\n",
        "for i in range(1, 51):\n",
        "    nome = gerar_nome()\n",
        "    email = gerar_email(nome, i)\n",
        "    nascimento = gerar_data_nascimento()\n",
        "    cursor.execute(\"INSERT INTO alunas (nome, email, data_nascimento) VALUES (?, ?, ?)\", (nome, email, nascimento))\n",
        "\n",
        "conn.commit()"
      ],
      "metadata": {
        "id": "F-WUwpLnv1u9"
      },
      "execution_count": null,
      "outputs": []
    },
    {
      "cell_type": "code",
      "source": [],
      "metadata": {
        "id": "nf4z31T_tc-q"
      },
      "execution_count": null,
      "outputs": []
    },
    {
      "cell_type": "markdown",
      "source": [
        "### 3. Consultar registros\n",
        "\n",
        "* Listar todas as alunas cadastradas com SELECT * FROM alunas.\n",
        "\n",
        "* Consultar apenas alunas nascidas após o ano 2000.\n",
        "\n",
        "* Consultar alunas filtrando pelo nome ou email (usando WHERE)."
      ],
      "metadata": {
        "id": "RCNX2Ubfv13y"
      }
    },
    {
      "cell_type": "markdown",
      "source": [
        "#### 4. Atualizar registros\n",
        "\n",
        "* Alterar o email de pelo menos uma aluna.\n",
        "\n",
        "* Atualizar o nome de uma aluna existente.\n",
        "\n",
        "* Corrigir a data de nascimento de pelo menos uma aluna."
      ],
      "metadata": {
        "id": "1Z5P6zfrv4IE"
      }
    },
    {
      "cell_type": "code",
      "source": [
        "# Listar todas as alunas\n",
        "cursor.execute(\"SELECT * FROM alunas\")\n",
        "for linha in cursor.fetchall():\n",
        "    print(linha)\n",
        "\n",
        "# Filtrar alunas nascidas após o ano 2000\n",
        "cursor.execute(\"SELECT * FROM alunas WHERE data_nascimento > '2000-12-31'\")\n",
        "for linha in cursor.fetchall():\n",
        "    print(linha)\n",
        "\n",
        "# Contar total de registros\n",
        "cursor.execute(\"SELECT COUNT(*) FROM alunas\")\n",
        "print(\"Total de alunas:\", cursor.fetchone()[0])"
      ],
      "metadata": {
        "colab": {
          "base_uri": "https://localhost:8080/"
        },
        "id": "RH5rnqRou9FU",
        "outputId": "fd6ca65c-6b9d-4ccc-a0c7-07a513ba67da"
      },
      "execution_count": null,
      "outputs": [
        {
          "output_type": "stream",
          "name": "stdout",
          "text": [
            "(1, 'Ana Maria Silva', 'ana.pereira1@exemplo.com', '1996-01-11', '2025-09-28 19:03:48')\n",
            "(3, 'Fernanda Nascimento', 'fernanda.nascimento3@exemplo.com', '1990-03-27', '2025-09-28 19:03:48')\n",
            "(4, 'Carla Costa', 'carla.costa4@exemplo.com', '2003-08-17', '2025-09-28 19:03:48')\n",
            "(5, 'Helena Almeida', 'helena.almeida5@exemplo.com', '2000-11-05', '2025-09-28 19:03:48')\n",
            "(6, 'Ana Nascimento', 'ana.nascimento6@exemplo.com', '2001-08-07', '2025-09-28 19:03:48')\n",
            "(7, 'Daniela Souza', 'daniela.souza7@exemplo.com', '1997-07-19', '2025-09-28 19:03:48')\n",
            "(8, 'Ana Pereira', 'ana.pereira8@exemplo.com', '1992-08-08', '2025-09-28 19:03:48')\n",
            "(9, 'Daniela Rodrigues', 'daniela.rodrigues9@exemplo.com', '2001-04-15', '2025-09-28 19:03:48')\n",
            "(10, 'Fernanda Costa', 'fernanda.costa10@exemplo.com', '2000-04-01', '2025-09-28 19:03:48')\n",
            "(11, 'Juliana Oliveira', 'juliana.oliveira11@exemplo.com', '2002-01-15', '2025-09-28 19:03:48')\n",
            "(12, 'Daniela Lima', 'daniela.lima12@exemplo.com', '1995-08-02', '2025-09-28 19:03:48')\n",
            "(13, 'Beatriz Oliveira', 'beatriz.oliveira13@exemplo.com', '1995-11-26', '2025-09-28 19:03:48')\n",
            "(14, 'Carla Oliveira', 'carla.oliveira14@exemplo.com', '2004-01-17', '2025-09-28 19:03:48')\n",
            "(15, 'Gabriela Oliveira', 'gabriela.oliveira15@exemplo.com', '1990-01-02', '2025-09-28 19:03:48')\n",
            "(16, 'Juliana Costa', 'juliana.costa16@exemplo.com', '2003-07-28', '2025-09-28 19:03:48')\n",
            "(17, 'Fernanda Almeida', 'fernanda.almeida17@exemplo.com', '1992-01-26', '2025-09-28 19:03:48')\n",
            "(18, 'Juliana Rodrigues', 'juliana.rodrigues18@exemplo.com', '1996-03-09', '2025-09-28 19:03:48')\n",
            "(19, 'Juliana Silva', 'juliana.silva19@exemplo.com', '1996-10-08', '2025-09-28 19:03:48')\n",
            "(20, 'Ana Souza', 'ana.souza20@exemplo.com', '1997-10-09', '2025-09-28 19:03:48')\n",
            "(21, 'Juliana Silva', 'juliana.silva21@exemplo.com', '2002-05-07', '2025-09-28 19:03:48')\n",
            "(22, 'Isabela Souza', 'isabela.souza22@exemplo.com', '1992-12-01', '2025-09-28 19:03:48')\n",
            "(23, 'Fernanda Souza', 'fernanda.souza23@exemplo.com', '1997-05-12', '2025-09-28 19:03:48')\n",
            "(24, 'Eduarda Oliveira', 'eduarda.oliveira24@exemplo.com', '1999-06-09', '2025-09-28 19:03:48')\n",
            "(25, 'Carla Oliveira', 'carla.oliveira25@exemplo.com', '2000-09-14', '2025-09-28 19:03:48')\n",
            "(26, 'Beatriz Silva', 'beatriz.silva26@exemplo.com', '1992-12-26', '2025-09-28 19:03:48')\n",
            "(27, 'Juliana Souza', 'juliana.souza27@exemplo.com', '2000-02-24', '2025-09-28 19:03:48')\n",
            "(28, 'Gabriela Lima', 'gabriela.lima28@exemplo.com', '2004-03-20', '2025-09-28 19:03:48')\n",
            "(29, 'Eduarda Almeida', 'eduarda.almeida29@exemplo.com', '1995-04-22', '2025-09-28 19:03:48')\n",
            "(30, 'Carla Souza', 'carla.souza30@exemplo.com', '2004-02-02', '2025-09-28 19:03:48')\n",
            "(31, 'Gabriela Souza', 'gabriela.souza31@exemplo.com', '1991-06-02', '2025-09-28 19:03:48')\n",
            "(32, 'Eduarda Pereira', 'eduarda.pereira32@exemplo.com', '2001-03-05', '2025-09-28 19:03:48')\n",
            "(33, 'Carla Pereira', 'carla.pereira33@exemplo.com', '2004-09-07', '2025-09-28 19:03:48')\n",
            "(34, 'Gabriela Gomes', 'gabriela.gomes34@exemplo.com', '1996-03-10', '2025-09-28 19:03:48')\n",
            "(35, 'Gabriela Oliveira', 'gabriela.oliveira35@exemplo.com', '1991-08-20', '2025-09-28 19:03:48')\n",
            "(36, 'Fernanda Lima', 'fernanda.lima36@exemplo.com', '1990-01-23', '2025-09-28 19:03:48')\n",
            "(37, 'Eduarda Lima', 'eduarda.lima37@exemplo.com', '2004-08-01', '2025-09-28 19:03:48')\n",
            "(38, 'Eduarda Almeida', 'eduarda.almeida38@exemplo.com', '2001-11-16', '2025-09-28 19:03:48')\n",
            "(39, 'Juliana Pereira', 'juliana.pereira39@exemplo.com', '1990-06-10', '2025-09-28 19:03:48')\n",
            "(40, 'Eduarda Nascimento', 'eduarda.nascimento40@exemplo.com', '1999-07-17', '2025-09-28 19:03:48')\n",
            "(41, 'Beatriz Nascimento', 'beatriz.nascimento41@exemplo.com', '1995-01-11', '2025-09-28 19:03:48')\n",
            "(42, 'Gabriela Gomes', 'gabriela.gomes42@exemplo.com', '1991-09-10', '2025-09-28 19:03:48')\n",
            "(43, 'Eduarda Rodrigues', 'eduarda.rodrigues43@exemplo.com', '1994-01-04', '2025-09-28 19:03:48')\n",
            "(44, 'Carla Lima', 'carla.lima44@exemplo.com', '2005-03-02', '2025-09-28 19:03:48')\n",
            "(45, 'Helena Silva', 'helena.silva45@exemplo.com', '1995-01-11', '2025-09-28 19:03:48')\n",
            "(46, 'Beatriz Silva', 'beatriz.silva46@exemplo.com', '2004-04-06', '2025-09-28 19:03:48')\n",
            "(47, 'Juliana Almeida', 'juliana.almeida47@exemplo.com', '1990-02-15', '2025-09-28 19:03:48')\n",
            "(48, 'Ana Rodrigues', 'ana.rodrigues48@exemplo.com', '1993-03-12', '2025-09-28 19:03:48')\n",
            "(49, 'Daniela Nascimento', 'daniela.nascimento49@exemplo.com', '2004-08-13', '2025-09-28 19:03:48')\n",
            "(50, 'Fernanda Silva', 'fernanda.silva50@exemplo.com', '1993-08-08', '2025-09-28 19:03:48')\n",
            "(4, 'Carla Costa', 'carla.costa4@exemplo.com', '2003-08-17', '2025-09-28 19:03:48')\n",
            "(6, 'Ana Nascimento', 'ana.nascimento6@exemplo.com', '2001-08-07', '2025-09-28 19:03:48')\n",
            "(9, 'Daniela Rodrigues', 'daniela.rodrigues9@exemplo.com', '2001-04-15', '2025-09-28 19:03:48')\n",
            "(11, 'Juliana Oliveira', 'juliana.oliveira11@exemplo.com', '2002-01-15', '2025-09-28 19:03:48')\n",
            "(14, 'Carla Oliveira', 'carla.oliveira14@exemplo.com', '2004-01-17', '2025-09-28 19:03:48')\n",
            "(16, 'Juliana Costa', 'juliana.costa16@exemplo.com', '2003-07-28', '2025-09-28 19:03:48')\n",
            "(21, 'Juliana Silva', 'juliana.silva21@exemplo.com', '2002-05-07', '2025-09-28 19:03:48')\n",
            "(28, 'Gabriela Lima', 'gabriela.lima28@exemplo.com', '2004-03-20', '2025-09-28 19:03:48')\n",
            "(30, 'Carla Souza', 'carla.souza30@exemplo.com', '2004-02-02', '2025-09-28 19:03:48')\n",
            "(32, 'Eduarda Pereira', 'eduarda.pereira32@exemplo.com', '2001-03-05', '2025-09-28 19:03:48')\n",
            "(33, 'Carla Pereira', 'carla.pereira33@exemplo.com', '2004-09-07', '2025-09-28 19:03:48')\n",
            "(37, 'Eduarda Lima', 'eduarda.lima37@exemplo.com', '2004-08-01', '2025-09-28 19:03:48')\n",
            "(38, 'Eduarda Almeida', 'eduarda.almeida38@exemplo.com', '2001-11-16', '2025-09-28 19:03:48')\n",
            "(44, 'Carla Lima', 'carla.lima44@exemplo.com', '2005-03-02', '2025-09-28 19:03:48')\n",
            "(46, 'Beatriz Silva', 'beatriz.silva46@exemplo.com', '2004-04-06', '2025-09-28 19:03:48')\n",
            "(49, 'Daniela Nascimento', 'daniela.nascimento49@exemplo.com', '2004-08-13', '2025-09-28 19:03:48')\n",
            "Total de alunas: 49\n"
          ]
        }
      ]
    },
    {
      "cell_type": "code",
      "source": [
        "# Atualizar nome da aluna com id 1\n",
        "cursor.execute(\"UPDATE alunas SET nome = 'Ana Maria Silva' WHERE id = 1\")\n",
        "conn.commit()"
      ],
      "metadata": {
        "id": "tt1afyeev4bo"
      },
      "execution_count": null,
      "outputs": []
    },
    {
      "cell_type": "code",
      "source": [],
      "metadata": {
        "id": "erajlVpiuO6u"
      },
      "execution_count": null,
      "outputs": []
    },
    {
      "cell_type": "markdown",
      "source": [
        "### 5. Remover registros\n",
        "\n",
        "* Excluir pelo menos uma aluna da tabela utilizando DELETE.\n",
        "\n",
        "* Excluir todas as alunas que tenham data de nascimento anterior a 1990."
      ],
      "metadata": {
        "id": "4e3hKcuLv7BO"
      }
    },
    {
      "cell_type": "code",
      "source": [
        "# Excluir aluna com id 2\n",
        "cursor.execute(\"DELETE FROM alunas WHERE id = 2\")\n",
        "conn.commit()"
      ],
      "metadata": {
        "id": "xH8PFS9CvUkM"
      },
      "execution_count": null,
      "outputs": []
    }
  ]
}